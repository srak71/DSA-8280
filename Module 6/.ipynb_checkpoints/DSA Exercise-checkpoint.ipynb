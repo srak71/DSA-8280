{
 "cells": [
  {
   "cell_type": "markdown",
   "id": "8290dffc-1751-4c51-a236-f9095663ae52",
   "metadata": {},
   "source": [
    "# Credit Card Data Exploration\n"
   ]
  },
  {
   "cell_type": "code",
   "execution_count": 3,
   "id": "56d267de-d764-49f8-b485-f84ea3f63b41",
   "metadata": {},
   "outputs": [],
   "source": [
    "import sys\n",
    "import numpy as np\n",
    "import pandas as pd\n",
    "import matplotlib as mpl\n",
    "import sklearn"
   ]
  },
  {
   "cell_type": "code",
   "execution_count": 4,
   "id": "88d62ffa-4092-4fa9-bc96-40b68bbafff9",
   "metadata": {},
   "outputs": [
    {
     "name": "stdout",
     "output_type": "stream",
     "text": [
      "Python version: 3.12.4 | packaged by Anaconda, Inc. | (main, Jun 18 2024, 15:03:56) [MSC v.1929 64 bit (AMD64)]\n",
      "Numpy version: 1.26.4\n",
      "Pandas version: 2.2.2\n",
      "Matplotlib version: 3.8.4\n",
      "Sklearn version: 1.4.2\n"
     ]
    }
   ],
   "source": [
    "print('Python version:', sys.version)\n",
    "print('Numpy version:', np.__version__)\n",
    "print('Pandas version:', pd.__version__)\n",
    "print('Matplotlib version:', mpl.__version__)\n",
    "print('Sklearn version:', sklearn.__version__)"
   ]
  },
  {
   "cell_type": "markdown",
   "id": "04228f76-4079-439f-9f4f-75389d41d91e",
   "metadata": {},
   "source": [
    "# Loading Case Study Data"
   ]
  },
  {
   "cell_type": "code",
   "execution_count": 6,
   "id": "51b77de6-1fa5-45f8-a84b-e3982f80c99f",
   "metadata": {},
   "outputs": [
    {
     "name": "stderr",
     "output_type": "stream",
     "text": [
      "C:\\Users\\saran\\anaconda3\\Lib\\site-packages\\openpyxl\\worksheet\\header_footer.py:48: UserWarning: Cannot parse header or footer so it will be ignored\n",
      "  warn(\"\"\"Cannot parse header or footer so it will be ignored\"\"\")\n"
     ]
    }
   ],
   "source": [
    "df = pd.read_excel('ClientCreditCard.xlsx')"
   ]
  },
  {
   "cell_type": "code",
   "execution_count": 7,
   "id": "b943289e-c42d-4881-96a7-693cc8ddc121",
   "metadata": {},
   "outputs": [
    {
     "data": {
      "text/plain": [
       "(30000, 25)"
      ]
     },
     "execution_count": 7,
     "metadata": {},
     "output_type": "execute_result"
    }
   ],
   "source": [
    "df.shape"
   ]
  },
  {
   "cell_type": "markdown",
   "id": "4699a64f-d5fe-4a61-be9c-b0e880c9e4ab",
   "metadata": {},
   "source": [
    "# Verify Basic Data Integrity"
   ]
  },
  {
   "cell_type": "code",
   "execution_count": 9,
   "id": "989ebc89-cfb0-4df6-a7f6-a993c0920a24",
   "metadata": {},
   "outputs": [
    {
     "data": {
      "text/plain": [
       "Index(['ID', 'LIMIT_BAL', 'SEX', 'EDUCATION', 'MARRIAGE', 'AGE', 'PAY_1',\n",
       "       'PAY_2', 'PAY_3', 'PAY_4', 'PAY_5', 'PAY_6', 'BILL_AMT1', 'BILL_AMT2',\n",
       "       'BILL_AMT3', 'BILL_AMT4', 'BILL_AMT5', 'BILL_AMT6', 'PAY_AMT1',\n",
       "       'PAY_AMT2', 'PAY_AMT3', 'PAY_AMT4', 'PAY_AMT5', 'PAY_AMT6',\n",
       "       'default payment next month'],\n",
       "      dtype='object')"
      ]
     },
     "execution_count": 9,
     "metadata": {},
     "output_type": "execute_result"
    }
   ],
   "source": [
    "df.columns"
   ]
  },
  {
   "cell_type": "markdown",
   "id": "63f33518-3e6f-4b3a-8427-e4864d33b82f",
   "metadata": {},
   "source": [
    "df.head()"
   ]
  },
  {
   "cell_type": "code",
   "execution_count": 11,
   "id": "082f3eb5-ab7c-4c32-89d8-b9f14ddbc415",
   "metadata": {},
   "outputs": [
    {
     "data": {
      "text/plain": [
       "29687"
      ]
     },
     "execution_count": 11,
     "metadata": {},
     "output_type": "execute_result"
    }
   ],
   "source": [
    "df['ID'].nunique()"
   ]
  },
  {
   "cell_type": "markdown",
   "id": "38bdde1e-2bbf-48fb-b207-5e95f85cf839",
   "metadata": {},
   "source": [
    "Less unique than number of rows (30,000) so there are duplicates."
   ]
  },
  {
   "cell_type": "code",
   "execution_count": 13,
   "id": "b161f275-c2b3-465a-ac91-5084d08c6521",
   "metadata": {},
   "outputs": [
    {
     "data": {
      "text/plain": [
       "ID\n",
       "ad23fe5c-7b09    2\n",
       "1fb3e3e6-a68d    2\n",
       "89f8f447-fca8    2\n",
       "7c9b7473-cc2f    2\n",
       "90330d02-82d9    2\n",
       "Name: count, dtype: int64"
      ]
     },
     "execution_count": 13,
     "metadata": {},
     "output_type": "execute_result"
    }
   ],
   "source": [
    "id_count = df['ID'].value_counts()\n",
    "id_count.head()"
   ]
  },
  {
   "cell_type": "code",
   "execution_count": 14,
   "id": "5fa77dae-cda8-442c-bead-364af1baf979",
   "metadata": {},
   "outputs": [
    {
     "data": {
      "text/plain": [
       "count\n",
       "1    29374\n",
       "2      313\n",
       "Name: count, dtype: int64"
      ]
     },
     "execution_count": 14,
     "metadata": {},
     "output_type": "execute_result"
    }
   ],
   "source": [
    "id_count.value_counts()"
   ]
  },
  {
   "cell_type": "markdown",
   "id": "f8195cc4-8102-475b-bb01-87f2795db942",
   "metadata": {},
   "source": [
    "There are 313 ID's that appear twice. 29374 + 2 * 313 = 30000"
   ]
  },
  {
   "cell_type": "markdown",
   "id": "9bf2f9f2-4dd8-472d-a392-f2ed5f3926c5",
   "metadata": {},
   "source": [
    "# Boolean Masks"
   ]
  },
  {
   "cell_type": "code",
   "execution_count": 28,
   "id": "892a17af-cf28-4fa2-a3f2-acaffed32784",
   "metadata": {},
   "outputs": [],
   "source": [
    "np.random.seed(seed=24)\n",
    "random_integers = np.random.randint(low=1, high=5, size=100)"
   ]
  },
  {
   "cell_type": "code",
   "execution_count": null,
   "id": "d3b726a9-46d0-4265-baef-13ce44f58b38",
   "metadata": {},
   "outputs": [],
   "source": []
  }
 ],
 "metadata": {
  "kernelspec": {
   "display_name": "Python 3 (ipykernel)",
   "language": "python",
   "name": "python3"
  },
  "language_info": {
   "codemirror_mode": {
    "name": "ipython",
    "version": 3
   },
   "file_extension": ".py",
   "mimetype": "text/x-python",
   "name": "python",
   "nbconvert_exporter": "python",
   "pygments_lexer": "ipython3",
   "version": "3.12.4"
  }
 },
 "nbformat": 4,
 "nbformat_minor": 5
}
