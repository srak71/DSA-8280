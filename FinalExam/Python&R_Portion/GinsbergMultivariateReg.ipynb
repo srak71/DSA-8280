{
 "cells": [
  {
   "cell_type": "markdown",
   "metadata": {},
   "source": [
    "## 1. Importing libraries"
   ]
  },
  {
   "cell_type": "code",
   "execution_count": 1,
   "metadata": {},
   "outputs": [],
   "source": [
    "import pandas as pd\n",
    "import numpy as np\n",
    "import statsmodels.api as sm \n",
    "from scipy import stats"
   ]
  },
  {
   "cell_type": "markdown",
   "metadata": {},
   "source": [
    "## 2. Loading the data"
   ]
  },
  {
   "cell_type": "code",
   "execution_count": 2,
   "metadata": {},
   "outputs": [
    {
     "data": {
      "text/html": [
       "<div>\n",
       "<style scoped>\n",
       "    .dataframe tbody tr th:only-of-type {\n",
       "        vertical-align: middle;\n",
       "    }\n",
       "\n",
       "    .dataframe tbody tr th {\n",
       "        vertical-align: top;\n",
       "    }\n",
       "\n",
       "    .dataframe thead th {\n",
       "        text-align: right;\n",
       "    }\n",
       "</style>\n",
       "<table border=\"1\" class=\"dataframe\">\n",
       "  <thead>\n",
       "    <tr style=\"text-align: right;\">\n",
       "      <th></th>\n",
       "      <th>SubjectID</th>\n",
       "      <th>Simplicity</th>\n",
       "      <th>Fatalism</th>\n",
       "      <th>Depression</th>\n",
       "      <th>Adj_Simplicity</th>\n",
       "      <th>Adj_Fatalism</th>\n",
       "      <th>Adj_Depression</th>\n",
       "    </tr>\n",
       "  </thead>\n",
       "  <tbody>\n",
       "    <tr>\n",
       "      <th>0</th>\n",
       "      <td>1</td>\n",
       "      <td>0.92983</td>\n",
       "      <td>0.35589</td>\n",
       "      <td>0.59870</td>\n",
       "      <td>0.75934</td>\n",
       "      <td>0.10673</td>\n",
       "      <td>0.41865</td>\n",
       "    </tr>\n",
       "    <tr>\n",
       "      <th>1</th>\n",
       "      <td>2</td>\n",
       "      <td>0.91097</td>\n",
       "      <td>1.18439</td>\n",
       "      <td>0.72787</td>\n",
       "      <td>0.72717</td>\n",
       "      <td>0.99915</td>\n",
       "      <td>0.51688</td>\n",
       "    </tr>\n",
       "    <tr>\n",
       "      <th>2</th>\n",
       "      <td>3</td>\n",
       "      <td>0.53366</td>\n",
       "      <td>-0.05837</td>\n",
       "      <td>0.53411</td>\n",
       "      <td>0.62176</td>\n",
       "      <td>0.03811</td>\n",
       "      <td>0.70699</td>\n",
       "    </tr>\n",
       "    <tr>\n",
       "      <th>3</th>\n",
       "      <td>4</td>\n",
       "      <td>0.74118</td>\n",
       "      <td>0.35589</td>\n",
       "      <td>0.56641</td>\n",
       "      <td>0.83522</td>\n",
       "      <td>0.42218</td>\n",
       "      <td>0.65639</td>\n",
       "    </tr>\n",
       "    <tr>\n",
       "      <th>4</th>\n",
       "      <td>5</td>\n",
       "      <td>0.53366</td>\n",
       "      <td>0.77014</td>\n",
       "      <td>0.50182</td>\n",
       "      <td>0.47697</td>\n",
       "      <td>0.81423</td>\n",
       "      <td>0.53518</td>\n",
       "    </tr>\n",
       "  </tbody>\n",
       "</table>\n",
       "</div>"
      ],
      "text/plain": [
       "   SubjectID  Simplicity  Fatalism  Depression  Adj_Simplicity  Adj_Fatalism  \\\n",
       "0          1     0.92983   0.35589     0.59870         0.75934       0.10673   \n",
       "1          2     0.91097   1.18439     0.72787         0.72717       0.99915   \n",
       "2          3     0.53366  -0.05837     0.53411         0.62176       0.03811   \n",
       "3          4     0.74118   0.35589     0.56641         0.83522       0.42218   \n",
       "4          5     0.53366   0.77014     0.50182         0.47697       0.81423   \n",
       "\n",
       "   Adj_Depression  \n",
       "0         0.41865  \n",
       "1         0.51688  \n",
       "2         0.70699  \n",
       "3         0.65639  \n",
       "4         0.53518  "
      ]
     },
     "execution_count": 2,
     "metadata": {},
     "output_type": "execute_result"
    }
   ],
   "source": [
    "df = pd.read_csv('ginsberg.csv')\n",
    "df.head()"
   ]
  },
  {
   "cell_type": "markdown",
   "metadata": {},
   "source": [
    "## 3. Assigning Independent Variables (features) and Dependent Variable (target)"
   ]
  },
  {
   "cell_type": "code",
   "execution_count": 3,
   "metadata": {},
   "outputs": [],
   "source": [
    "X = df[['Simplicity', 'Fatalism']]\n",
    "Y = df['Depression']"
   ]
  },
  {
   "cell_type": "markdown",
   "metadata": {},
   "source": [
    "## 4. Adding constant to model"
   ]
  },
  {
   "cell_type": "code",
   "execution_count": 4,
   "metadata": {},
   "outputs": [],
   "source": [
    "X = sm.add_constant(X)"
   ]
  },
  {
   "cell_type": "markdown",
   "metadata": {},
   "source": [
    "## 5. Performing and displaying the Multivariate Regression on ['Depression']"
   ]
  },
  {
   "cell_type": "code",
   "execution_count": 5,
   "metadata": {},
   "outputs": [
    {
     "data": {
      "text/html": [
       "<table class=\"simpletable\">\n",
       "<caption>OLS Regression Results</caption>\n",
       "<tr>\n",
       "  <th>Dep. Variable:</th>       <td>Depression</td>    <th>  R-squared:         </th> <td>   0.519</td>\n",
       "</tr>\n",
       "<tr>\n",
       "  <th>Model:</th>                   <td>OLS</td>       <th>  Adj. R-squared:    </th> <td>   0.507</td>\n",
       "</tr>\n",
       "<tr>\n",
       "  <th>Method:</th>             <td>Least Squares</td>  <th>  F-statistic:       </th> <td>   42.58</td>\n",
       "</tr>\n",
       "<tr>\n",
       "  <th>Date:</th>             <td>Fri, 16 Aug 2024</td> <th>  Prob (F-statistic):</th> <td>2.84e-13</td>\n",
       "</tr>\n",
       "<tr>\n",
       "  <th>Time:</th>                 <td>23:40:24</td>     <th>  Log-Likelihood:    </th> <td> -29.024</td>\n",
       "</tr>\n",
       "<tr>\n",
       "  <th>No. Observations:</th>      <td>    82</td>      <th>  AIC:               </th> <td>   64.05</td>\n",
       "</tr>\n",
       "<tr>\n",
       "  <th>Df Residuals:</th>          <td>    79</td>      <th>  BIC:               </th> <td>   71.27</td>\n",
       "</tr>\n",
       "<tr>\n",
       "  <th>Df Model:</th>              <td>     2</td>      <th>                     </th>     <td> </td>   \n",
       "</tr>\n",
       "<tr>\n",
       "  <th>Covariance Type:</th>      <td>nonrobust</td>    <th>                     </th>     <td> </td>   \n",
       "</tr>\n",
       "</table>\n",
       "<table class=\"simpletable\">\n",
       "<tr>\n",
       "       <td></td>         <th>coef</th>     <th>std err</th>      <th>t</th>      <th>P>|t|</th>  <th>[0.025</th>    <th>0.975]</th>  \n",
       "</tr>\n",
       "<tr>\n",
       "  <th>const</th>      <td>    0.2027</td> <td>    0.095</td> <td>    2.140</td> <td> 0.035</td> <td>    0.014</td> <td>    0.391</td>\n",
       "</tr>\n",
       "<tr>\n",
       "  <th>Simplicity</th> <td>    0.3795</td> <td>    0.101</td> <td>    3.771</td> <td> 0.000</td> <td>    0.179</td> <td>    0.580</td>\n",
       "</tr>\n",
       "<tr>\n",
       "  <th>Fatalism</th>   <td>    0.4178</td> <td>    0.101</td> <td>    4.151</td> <td> 0.000</td> <td>    0.217</td> <td>    0.618</td>\n",
       "</tr>\n",
       "</table>\n",
       "<table class=\"simpletable\">\n",
       "<tr>\n",
       "  <th>Omnibus:</th>       <td>11.218</td> <th>  Durbin-Watson:     </th> <td>   1.179</td>\n",
       "</tr>\n",
       "<tr>\n",
       "  <th>Prob(Omnibus):</th> <td> 0.004</td> <th>  Jarque-Bera (JB):  </th> <td>  11.425</td>\n",
       "</tr>\n",
       "<tr>\n",
       "  <th>Skew:</th>          <td> 0.857</td> <th>  Prob(JB):          </th> <td> 0.00330</td>\n",
       "</tr>\n",
       "<tr>\n",
       "  <th>Kurtosis:</th>      <td> 3.636</td> <th>  Cond. No.          </th> <td>    6.00</td>\n",
       "</tr>\n",
       "</table><br/><br/>Notes:<br/>[1] Standard Errors assume that the covariance matrix of the errors is correctly specified."
      ],
      "text/latex": [
       "\\begin{center}\n",
       "\\begin{tabular}{lclc}\n",
       "\\toprule\n",
       "\\textbf{Dep. Variable:}    &    Depression    & \\textbf{  R-squared:         } &     0.519   \\\\\n",
       "\\textbf{Model:}            &       OLS        & \\textbf{  Adj. R-squared:    } &     0.507   \\\\\n",
       "\\textbf{Method:}           &  Least Squares   & \\textbf{  F-statistic:       } &     42.58   \\\\\n",
       "\\textbf{Date:}             & Fri, 16 Aug 2024 & \\textbf{  Prob (F-statistic):} &  2.84e-13   \\\\\n",
       "\\textbf{Time:}             &     23:40:24     & \\textbf{  Log-Likelihood:    } &   -29.024   \\\\\n",
       "\\textbf{No. Observations:} &          82      & \\textbf{  AIC:               } &     64.05   \\\\\n",
       "\\textbf{Df Residuals:}     &          79      & \\textbf{  BIC:               } &     71.27   \\\\\n",
       "\\textbf{Df Model:}         &           2      & \\textbf{                     } &             \\\\\n",
       "\\textbf{Covariance Type:}  &    nonrobust     & \\textbf{                     } &             \\\\\n",
       "\\bottomrule\n",
       "\\end{tabular}\n",
       "\\begin{tabular}{lcccccc}\n",
       "                    & \\textbf{coef} & \\textbf{std err} & \\textbf{t} & \\textbf{P$> |$t$|$} & \\textbf{[0.025} & \\textbf{0.975]}  \\\\\n",
       "\\midrule\n",
       "\\textbf{const}      &       0.2027  &        0.095     &     2.140  &         0.035        &        0.014    &        0.391     \\\\\n",
       "\\textbf{Simplicity} &       0.3795  &        0.101     &     3.771  &         0.000        &        0.179    &        0.580     \\\\\n",
       "\\textbf{Fatalism}   &       0.4178  &        0.101     &     4.151  &         0.000        &        0.217    &        0.618     \\\\\n",
       "\\bottomrule\n",
       "\\end{tabular}\n",
       "\\begin{tabular}{lclc}\n",
       "\\textbf{Omnibus:}       & 11.218 & \\textbf{  Durbin-Watson:     } &    1.179  \\\\\n",
       "\\textbf{Prob(Omnibus):} &  0.004 & \\textbf{  Jarque-Bera (JB):  } &   11.425  \\\\\n",
       "\\textbf{Skew:}          &  0.857 & \\textbf{  Prob(JB):          } &  0.00330  \\\\\n",
       "\\textbf{Kurtosis:}      &  3.636 & \\textbf{  Cond. No.          } &     6.00  \\\\\n",
       "\\bottomrule\n",
       "\\end{tabular}\n",
       "%\\caption{OLS Regression Results}\n",
       "\\end{center}\n",
       "\n",
       "Notes: \\newline\n",
       " [1] Standard Errors assume that the covariance matrix of the errors is correctly specified."
      ],
      "text/plain": [
       "<class 'statsmodels.iolib.summary.Summary'>\n",
       "\"\"\"\n",
       "                            OLS Regression Results                            \n",
       "==============================================================================\n",
       "Dep. Variable:             Depression   R-squared:                       0.519\n",
       "Model:                            OLS   Adj. R-squared:                  0.507\n",
       "Method:                 Least Squares   F-statistic:                     42.58\n",
       "Date:                Fri, 16 Aug 2024   Prob (F-statistic):           2.84e-13\n",
       "Time:                        23:40:24   Log-Likelihood:                -29.024\n",
       "No. Observations:                  82   AIC:                             64.05\n",
       "Df Residuals:                      79   BIC:                             71.27\n",
       "Df Model:                           2                                         \n",
       "Covariance Type:            nonrobust                                         \n",
       "==============================================================================\n",
       "                 coef    std err          t      P>|t|      [0.025      0.975]\n",
       "------------------------------------------------------------------------------\n",
       "const          0.2027      0.095      2.140      0.035       0.014       0.391\n",
       "Simplicity     0.3795      0.101      3.771      0.000       0.179       0.580\n",
       "Fatalism       0.4178      0.101      4.151      0.000       0.217       0.618\n",
       "==============================================================================\n",
       "Omnibus:                       11.218   Durbin-Watson:                   1.179\n",
       "Prob(Omnibus):                  0.004   Jarque-Bera (JB):               11.425\n",
       "Skew:                           0.857   Prob(JB):                      0.00330\n",
       "Kurtosis:                       3.636   Cond. No.                         6.00\n",
       "==============================================================================\n",
       "\n",
       "Notes:\n",
       "[1] Standard Errors assume that the covariance matrix of the errors is correctly specified.\n",
       "\"\"\""
      ]
     },
     "execution_count": 5,
     "metadata": {},
     "output_type": "execute_result"
    }
   ],
   "source": [
    "model = sm.OLS(Y, X).fit()\n",
    "model.summary()"
   ]
  },
  {
   "cell_type": "code",
   "execution_count": 6,
   "metadata": {},
   "outputs": [
    {
     "data": {
      "text/plain": [
       "const         0.035455\n",
       "Simplicity    0.000312\n",
       "Fatalism      0.000083\n",
       "dtype: float64"
      ]
     },
     "execution_count": 6,
     "metadata": {},
     "output_type": "execute_result"
    }
   ],
   "source": [
    "model.pvalues"
   ]
  },
  {
   "cell_type": "markdown",
   "metadata": {},
   "source": [
    "## 6. Interpreting Results"
   ]
  },
  {
   "cell_type": "markdown",
   "metadata": {},
   "source": [
    "### A. Describing the effect and significance level of each Independent Variable\n",
    "\n",
    "     ['Simplicity']\n",
    "\n",
    "- Effect: Our model finds a coef (effect) of 0.3795. This tells us we expect to see a 0.3795 unit increase in our ['Depression'] value with a one unit increase in ['Simplicity'], given ['Fatalism'] remains constant.\n",
    "\n",
    "- Significance level: Our model gives a p-value (significance level) of 0.000312. Since this is less than 0.05, ['Simplicity'] has a statistically significant effect on ['Depression']."
   ]
  },
  {
   "cell_type": "markdown",
   "metadata": {},
   "source": [
    "     ['Fatalism']\n",
    "\n",
    "- Effect: Our model finds a coef (effect) of 0.4178. This tells us we expect to see a 0.4178 unit increase in our ['Depression'] value with a one unit increase in ['Fatalism'], given ['Simplicity'] remains constant.\n",
    "\n",
    "- Significance level: Our model gives a p-value (significance level) of 0.000083. Since this is less than 0.05, ['Fatalism'] has a statistically significant effect on ['Depression']."
   ]
  },
  {
   "cell_type": "markdown",
   "metadata": {},
   "source": [
    "### B. Interpretation of R-squared\n",
    "\n",
    "- Our model gives an R-squared = 0.519, meaning 51.9% of the variation in ['Depression'] can be explained by our independent vars ['Simplicity', 'Fatalism']. This score also signifies our model is a moderate fit and proves to be useful however, still has significant room for improvement. "
   ]
  },
  {
   "cell_type": "code",
   "execution_count": null,
   "metadata": {},
   "outputs": [],
   "source": []
  }
 ],
 "metadata": {
  "kernelspec": {
   "display_name": "base",
   "language": "python",
   "name": "python3"
  },
  "language_info": {
   "codemirror_mode": {
    "name": "ipython",
    "version": 3
   },
   "file_extension": ".py",
   "mimetype": "text/x-python",
   "name": "python",
   "nbconvert_exporter": "python",
   "pygments_lexer": "ipython3",
   "version": "3.12.4"
  }
 },
 "nbformat": 4,
 "nbformat_minor": 2
}
